{
 "cells": [
  {
   "cell_type": "markdown",
   "metadata": {},
   "source": [
    "# COVID-19: Face Mask Detector\n",
    "\n",
    "\n",
    "### Created by Cainvas Scholar-\n",
    "1. Ritik Bompilwar ( [GitHub](https://github.com/RITIK-12) | [LinkedIn](https://www.linkedin.com/in/ritik-bompilwar-6054b818b/) ) \n",
    "\n",
    "\n",
    "![facemask](https://cainvas-static.s3.amazonaws.com/media/user_data/cainvas-admin/facemask.gif)\n",
    "\n",
    "\n"
   ]
  },
  {
   "cell_type": "markdown",
   "metadata": {},
   "source": [
    "### **Face Mask Detector**\n",
    "\n",
    "Face Mask Detection system built with OpenCV, TensorFlow using Deep Learning and Computer Vision to detect face masks in real-time video streams. \n",
    "\n",
    "#### Full Project is **[here](https://github.com/RITIK-12/Face-Mask-Detector)**\n",
    "\n",
    "Two-phase COVID-19 face mask detector-\n",
    "\n",
    "![face_mask_detector](https://cainvas-static.s3.amazonaws.com/media/user_data/cainvas-admin/facemask2.png)\n",
    "\n",
    "**Dataset :** [Face Mask Detection Data](https://www.kaggle.com/aneerbanchakraborty/face-mask-detection-data) from Kaggle.\n",
    "\n",
    "**Refrence :** [COVID-19: Face Mask Detector with OpenCV, Keras/TensorFlow, and Deep Learning](https://www.pyimagesearch.com/2020/05/04/covid-19-face-mask-detector-with-opencv-keras-tensorflow-and-deep-learning/)\n"
   ]
  },
  {
   "cell_type": "markdown",
   "metadata": {},
   "source": [
    "### **Download the dataset**"
   ]
  },
  {
   "cell_type": "code",
   "execution_count": 16,
   "metadata": {
    "execution": {
     "iopub.execute_input": "2020-09-20T20:44:42.790213Z",
     "iopub.status.busy": "2020-09-20T20:44:42.789974Z",
     "iopub.status.idle": "2020-09-20T20:44:46.239429Z",
     "shell.execute_reply": "2020-09-20T20:44:46.238692Z",
     "shell.execute_reply.started": "2020-09-20T20:44:42.790188Z"
    }
   },
   "outputs": [
    {
     "name": "stdout",
     "output_type": "stream",
     "text": [
      "--2020-09-20 20:44:42--  https://cainvas-static.s3.amazonaws.com/media/user_data/cainvas-admin/face-mask-detection.zip\n",
      "Resolving cainvas-static.s3.amazonaws.com (cainvas-static.s3.amazonaws.com)... 52.219.64.100\n",
      "Connecting to cainvas-static.s3.amazonaws.com (cainvas-static.s3.amazonaws.com)|52.219.64.100|:443... connected.\n",
      "HTTP request sent, awaiting response... 200 OK\n",
      "Length: 133028516 (127M) [application/zip]\n",
      "Saving to: ‘face-mask-detection.zip’\n",
      "\n",
      "face-mask-detection 100%[===================>] 126.87M  92.7MB/s    in 1.4s    \n",
      "\n",
      "2020-09-20 20:44:44 (92.7 MB/s) - ‘face-mask-detection.zip’ saved [133028516/133028516]\n",
      "\n"
     ]
    }
   ],
   "source": [
    "!wget -N \"https://cainvas-static.s3.amazonaws.com/media/user_data/cainvas-admin/face-mask-detection.zip\"\n",
    "!unzip -q -o \"face-mask-detection.zip\" -d \"face-mask-detection-data\"\n",
    "!rm \"face-mask-detection.zip\""
   ]
  },
  {
   "cell_type": "markdown",
   "metadata": {},
   "source": [
    "### **Importing all the dependencies and required libraries.**"
   ]
  },
  {
   "cell_type": "code",
   "execution_count": 2,
   "metadata": {
    "execution": {
     "iopub.execute_input": "2020-09-20T17:53:20.088951Z",
     "iopub.status.busy": "2020-09-20T17:53:20.088761Z",
     "iopub.status.idle": "2020-09-20T17:53:22.319158Z",
     "shell.execute_reply": "2020-09-20T17:53:22.318543Z",
     "shell.execute_reply.started": "2020-09-20T17:53:20.088927Z"
    }
   },
   "outputs": [],
   "source": [
    "from tensorflow.keras.preprocessing.image import ImageDataGenerator\n",
    "from tensorflow.keras.applications import MobileNetV2\n",
    "from tensorflow.keras.layers import AveragePooling2D\n",
    "from tensorflow.keras.layers import Dropout\n",
    "from tensorflow.keras.layers import Flatten\n",
    "from tensorflow.keras.layers import Dense\n",
    "from tensorflow.keras.layers import Input\n",
    "from tensorflow.keras.models import Model\n",
    "from tensorflow.keras.optimizers import Adam\n",
    "from tensorflow.keras.models import load_model\n",
    "from tensorflow.keras.applications.mobilenet_v2 import preprocess_input\n",
    "from tensorflow.keras.preprocessing.image import img_to_array\n",
    "from tensorflow.keras.preprocessing.image import load_img\n",
    "from tensorflow.keras.utils import to_categorical\n",
    "from sklearn.preprocessing import LabelBinarizer\n",
    "from sklearn.model_selection import train_test_split\n",
    "from sklearn.metrics import classification_report\n",
    "from imutils.video import VideoStream\n",
    "from imutils import paths\n",
    "import matplotlib.pyplot as plt\n",
    "import numpy as np\n",
    "import argparse\n",
    "import os\n",
    "import cv2\n",
    "import time\n",
    "import imutils"
   ]
  },
  {
   "cell_type": "markdown",
   "metadata": {},
   "source": [
    "Loading and labelling the images in the Dataset."
   ]
  },
  {
   "cell_type": "code",
   "execution_count": 3,
   "metadata": {
    "execution": {
     "iopub.execute_input": "2020-09-20T17:53:22.320380Z",
     "iopub.status.busy": "2020-09-20T17:53:22.320066Z",
     "iopub.status.idle": "2020-09-20T17:53:36.845760Z",
     "shell.execute_reply": "2020-09-20T17:53:36.844881Z",
     "shell.execute_reply.started": "2020-09-20T17:53:22.320355Z"
    }
   },
   "outputs": [
    {
     "name": "stderr",
     "output_type": "stream",
     "text": [
      "/opt/tljh/user/lib/python3.7/site-packages/PIL/Image.py:961: UserWarning: Palette images with Transparency expressed in bytes should be converted to RGBA images\n",
      "  \"Palette images with Transparency expressed in bytes should be \"\n"
     ]
    },
    {
     "name": "stdout",
     "output_type": "stream",
     "text": [
      "No. of images loaded: 3833\n"
     ]
    }
   ],
   "source": [
    "# initialize the initial learning rate, number of epochs to train for,\n",
    "# and batch size\n",
    "INIT_LR = 1e-4\n",
    "EPOCHS = 20\n",
    "BS = 32\n",
    "\n",
    "# grab the list of images in our dataset directory, then initialize\n",
    "# the list of data (i.e., images) and class images\n",
    "\n",
    "imagePaths = list(paths.list_images('face-mask-detection-data'))\n",
    "data = []\n",
    "labels = []\n",
    "\n",
    "# loop over the image paths\n",
    "for imagePath in imagePaths:\n",
    "\t# extract the class label from the filename\n",
    "\tlabel = imagePath.split(os.path.sep)[-2]\n",
    "\n",
    "\t# load the input image (224x224) and preprocess it\n",
    "\timage = load_img(imagePath, target_size=(224, 224))\n",
    "\timage = img_to_array(image)\n",
    "\timage = preprocess_input(image)\n",
    "\n",
    "\t# update the data and labels lists, respectively\n",
    "\tdata.append(image)\n",
    "\tlabels.append(label)\n",
    "print(\"No. of images loaded: {}\".format(len(data)))\n",
    "\n",
    "\n"
   ]
  },
  {
   "cell_type": "code",
   "execution_count": 4,
   "metadata": {
    "execution": {
     "iopub.execute_input": "2020-09-20T17:53:36.847036Z",
     "iopub.status.busy": "2020-09-20T17:53:36.846823Z",
     "iopub.status.idle": "2020-09-20T17:53:37.332148Z",
     "shell.execute_reply": "2020-09-20T17:53:37.331366Z",
     "shell.execute_reply.started": "2020-09-20T17:53:36.847011Z"
    }
   },
   "outputs": [],
   "source": [
    "# convert the data and labels to NumPy arrays\n",
    "data = np.array(data, dtype=\"float32\")\n",
    "labels = np.array(labels)\n",
    "\n",
    "# perform one-hot encoding on the labels\n",
    "lb = LabelBinarizer()\n",
    "labels = lb.fit_transform(labels)\n",
    "labels = to_categorical(labels)\n"
   ]
  },
  {
   "cell_type": "markdown",
   "metadata": {},
   "source": [
    "Preparing the inputs for the model"
   ]
  },
  {
   "cell_type": "code",
   "execution_count": 5,
   "metadata": {
    "execution": {
     "iopub.execute_input": "2020-09-20T17:53:37.333243Z",
     "iopub.status.busy": "2020-09-20T17:53:37.333047Z",
     "iopub.status.idle": "2020-09-20T17:53:37.703321Z",
     "shell.execute_reply": "2020-09-20T17:53:37.702674Z",
     "shell.execute_reply.started": "2020-09-20T17:53:37.333219Z"
    }
   },
   "outputs": [],
   "source": [
    "# partition the data into training and testing splits using 75% of\n",
    "# the data for training and the remaining 25% for testing\n",
    "(trainX, testX, trainY, testY) = train_test_split(data, labels,\n",
    "\ttest_size=0.20, stratify=labels, random_state=42)\n",
    "# construct the training image generator for data augmentation\n",
    "aug = ImageDataGenerator(\n",
    "\trotation_range=20,\n",
    "\tzoom_range=0.15,\n",
    "\twidth_shift_range=0.2,\n",
    "\theight_shift_range=0.2,\n",
    "\tshear_range=0.15,\n",
    "\thorizontal_flip=True,\n",
    "\tfill_mode=\"nearest\")"
   ]
  },
  {
   "cell_type": "markdown",
   "metadata": {},
   "source": [
    " Constructing and compiling the Model"
   ]
  },
  {
   "cell_type": "code",
   "execution_count": 6,
   "metadata": {
    "execution": {
     "iopub.execute_input": "2020-09-20T17:53:37.705782Z",
     "iopub.status.busy": "2020-09-20T17:53:37.705467Z",
     "iopub.status.idle": "2020-09-20T17:53:39.678820Z",
     "shell.execute_reply": "2020-09-20T17:53:39.677871Z",
     "shell.execute_reply.started": "2020-09-20T17:53:37.705756Z"
    }
   },
   "outputs": [
    {
     "name": "stdout",
     "output_type": "stream",
     "text": [
      "WARNING:tensorflow:`input_shape` is undefined or non-square, or `rows` is not in [96, 128, 160, 192, 224]. Weights for input shape (224, 224) will be loaded as the default.\n",
      "Downloading data from https://storage.googleapis.com/tensorflow/keras-applications/mobilenet_v2/mobilenet_v2_weights_tf_dim_ordering_tf_kernels_1.0_224_no_top.h5\n",
      "9412608/9406464 [==============================] - 0s 0us/step\n"
     ]
    }
   ],
   "source": [
    "# loading the MobileNetV2 network, ensuring the head FC layer sets are left off\n",
    "baseModel = MobileNetV2(weights=\"imagenet\", include_top=False,\n",
    "\tinput_tensor=Input(shape=(224, 224, 3)))\n",
    "\n",
    "# constructing the head of the model that will be placed on top of the base model\n",
    "headModel = baseModel.output\n",
    "headModel = AveragePooling2D(pool_size=(7, 7))(headModel)\n",
    "headModel = Flatten(name=\"flatten\")(headModel)\n",
    "headModel = Dense(128, activation=\"relu\")(headModel)\n",
    "headModel = Dropout(0.5)(headModel)\n",
    "headModel = Dense(2, activation=\"softmax\")(headModel)\n",
    "\n",
    "# placing the head FC model on top of the base model (this will become the actual model we will train)\n",
    "model = Model(inputs=baseModel.input, outputs=headModel)\n",
    "\n",
    "# loop over all layers in the base model and freeze them so they will not be updated during the first training process\n",
    "for layer in baseModel.layers:\n",
    "\tlayer.trainable = False\n",
    "\n",
    "# compiling our model\n",
    "\n",
    "opt = Adam(lr=INIT_LR, decay=INIT_LR / EPOCHS)\n",
    "model.compile(loss=\"binary_crossentropy\", optimizer=opt,\n",
    "\tmetrics=[\"accuracy\"])\n",
    "\n"
   ]
  },
  {
   "cell_type": "markdown",
   "metadata": {},
   "source": [
    "Training the Model"
   ]
  },
  {
   "cell_type": "code",
   "execution_count": 7,
   "metadata": {
    "execution": {
     "iopub.execute_input": "2020-09-20T17:53:39.680533Z",
     "iopub.status.busy": "2020-09-20T17:53:39.680325Z",
     "iopub.status.idle": "2020-09-20T18:13:57.546034Z",
     "shell.execute_reply": "2020-09-20T18:13:57.545253Z",
     "shell.execute_reply.started": "2020-09-20T17:53:39.680509Z"
    }
   },
   "outputs": [
    {
     "name": "stdout",
     "output_type": "stream",
     "text": [
      "Epoch 1/20\n",
      "95/95 [==============================] - 61s 642ms/step - loss: 0.3721 - accuracy: 0.8352 - val_loss: 0.1116 - val_accuracy: 0.9674\n",
      "Epoch 2/20\n",
      "95/95 [==============================] - 60s 633ms/step - loss: 0.1155 - accuracy: 0.9611 - val_loss: 0.0728 - val_accuracy: 0.9765\n",
      "Epoch 3/20\n",
      "95/95 [==============================] - 60s 635ms/step - loss: 0.0869 - accuracy: 0.9710 - val_loss: 0.0560 - val_accuracy: 0.9870\n",
      "Epoch 4/20\n",
      "95/95 [==============================] - 60s 629ms/step - loss: 0.0652 - accuracy: 0.9782 - val_loss: 0.0488 - val_accuracy: 0.9870\n",
      "Epoch 5/20\n",
      "95/95 [==============================] - 60s 633ms/step - loss: 0.0528 - accuracy: 0.9809 - val_loss: 0.0387 - val_accuracy: 0.9883\n",
      "Epoch 6/20\n",
      "95/95 [==============================] - 60s 632ms/step - loss: 0.0508 - accuracy: 0.9809 - val_loss: 0.0378 - val_accuracy: 0.9870\n",
      "Epoch 7/20\n",
      "95/95 [==============================] - 60s 633ms/step - loss: 0.0444 - accuracy: 0.9845 - val_loss: 0.0351 - val_accuracy: 0.9883\n",
      "Epoch 8/20\n",
      "95/95 [==============================] - 60s 630ms/step - loss: 0.0447 - accuracy: 0.9835 - val_loss: 0.0302 - val_accuracy: 0.9909\n",
      "Epoch 9/20\n",
      "95/95 [==============================] - 60s 629ms/step - loss: 0.0333 - accuracy: 0.9895 - val_loss: 0.0352 - val_accuracy: 0.9896\n",
      "Epoch 10/20\n",
      "95/95 [==============================] - 60s 631ms/step - loss: 0.0310 - accuracy: 0.9888 - val_loss: 0.0283 - val_accuracy: 0.9909\n",
      "Epoch 11/20\n",
      "95/95 [==============================] - 60s 632ms/step - loss: 0.0312 - accuracy: 0.9895 - val_loss: 0.0277 - val_accuracy: 0.9909\n",
      "Epoch 12/20\n",
      "95/95 [==============================] - 60s 631ms/step - loss: 0.0337 - accuracy: 0.9901 - val_loss: 0.0287 - val_accuracy: 0.9896\n",
      "Epoch 13/20\n",
      "95/95 [==============================] - 60s 630ms/step - loss: 0.0264 - accuracy: 0.9918 - val_loss: 0.0271 - val_accuracy: 0.9922\n",
      "Epoch 14/20\n",
      "95/95 [==============================] - 60s 630ms/step - loss: 0.0320 - accuracy: 0.9895 - val_loss: 0.0377 - val_accuracy: 0.9870\n",
      "Epoch 15/20\n",
      "95/95 [==============================] - 60s 627ms/step - loss: 0.0250 - accuracy: 0.9927 - val_loss: 0.0272 - val_accuracy: 0.9922\n",
      "Epoch 16/20\n",
      "95/95 [==============================] - 60s 628ms/step - loss: 0.0247 - accuracy: 0.9921 - val_loss: 0.0331 - val_accuracy: 0.9909\n",
      "Epoch 17/20\n",
      "95/95 [==============================] - 59s 626ms/step - loss: 0.0262 - accuracy: 0.9921 - val_loss: 0.0286 - val_accuracy: 0.9922\n",
      "Epoch 18/20\n",
      "95/95 [==============================] - 59s 626ms/step - loss: 0.0262 - accuracy: 0.9924 - val_loss: 0.0275 - val_accuracy: 0.9922\n",
      "Epoch 19/20\n",
      "95/95 [==============================] - 59s 624ms/step - loss: 0.0176 - accuracy: 0.9941 - val_loss: 0.0307 - val_accuracy: 0.9922\n",
      "Epoch 20/20\n",
      "95/95 [==============================] - 60s 626ms/step - loss: 0.0204 - accuracy: 0.9931 - val_loss: 0.0222 - val_accuracy: 0.9935\n"
     ]
    }
   ],
   "source": [
    "# training the head of the network\n",
    "\n",
    "H = model.fit(\n",
    "\taug.flow(trainX, trainY, batch_size=BS),\n",
    "\tsteps_per_epoch=len(trainX) // BS,\n",
    "\tvalidation_data=(testX, testY),\n",
    "\tvalidation_steps=len(testX) // BS,\n",
    "\tepochs=EPOCHS)\n",
    "\n",
    "\n"
   ]
  },
  {
   "cell_type": "markdown",
   "metadata": {},
   "source": [
    "Predicting masked and unmasked images using the trained Model."
   ]
  },
  {
   "cell_type": "code",
   "execution_count": 8,
   "metadata": {
    "execution": {
     "iopub.execute_input": "2020-09-20T18:13:57.547299Z",
     "iopub.status.busy": "2020-09-20T18:13:57.547089Z",
     "iopub.status.idle": "2020-09-20T18:14:08.993219Z",
     "shell.execute_reply": "2020-09-20T18:14:08.992423Z",
     "shell.execute_reply.started": "2020-09-20T18:13:57.547273Z"
    }
   },
   "outputs": [
    {
     "name": "stdout",
     "output_type": "stream",
     "text": [
      "              precision    recall  f1-score   support\n",
      "\n",
      "   with_mask       0.99      1.00      0.99       383\n",
      "without_mask       1.00      0.99      0.99       384\n",
      "\n",
      "    accuracy                           0.99       767\n",
      "   macro avg       0.99      0.99      0.99       767\n",
      "weighted avg       0.99      0.99      0.99       767\n",
      "\n"
     ]
    }
   ],
   "source": [
    "# making predictions on the testing set\n",
    "\n",
    "predIdxs = model.predict(testX, batch_size=BS)\n",
    "\n",
    "# for each image in the testing set we need to find the index of the label with corresponding largest predicted probability\n",
    "predIdxs = np.argmax(predIdxs, axis=1)\n",
    "\n",
    "# Creating a classification report\n",
    "print(classification_report(testY.argmax(axis=1), predIdxs,\n",
    "\ttarget_names=lb.classes_))\n"
   ]
  },
  {
   "cell_type": "markdown",
   "metadata": {},
   "source": [
    " Plotting the training loss and accuracy"
   ]
  },
  {
   "cell_type": "code",
   "execution_count": 9,
   "metadata": {
    "execution": {
     "iopub.execute_input": "2020-09-20T18:14:08.994436Z",
     "iopub.status.busy": "2020-09-20T18:14:08.994212Z",
     "iopub.status.idle": "2020-09-20T18:14:09.209619Z",
     "shell.execute_reply": "2020-09-20T18:14:09.208787Z",
     "shell.execute_reply.started": "2020-09-20T18:14:08.994411Z"
    }
   },
   "outputs": [
    {
     "data": {
      "text/plain": [
       "<matplotlib.legend.Legend at 0x7fe2dc443ef0>"
      ]
     },
     "execution_count": 9,
     "metadata": {},
     "output_type": "execute_result"
    },
    {
     "data": {
      "image/png": "[encoded data removed]",
      "text/plain": [
       "<Figure size 432x288 with 1 Axes>"
      ]
     },
     "metadata": {},
     "output_type": "display_data"
    }
   ],
   "source": [
    "\n",
    "N = EPOCHS\n",
    "plt.style.use(\"ggplot\")\n",
    "plt.figure()\n",
    "plt.plot(np.arange(0, N), H.history[\"loss\"], label=\"train_loss\")\n",
    "plt.plot(np.arange(0, N), H.history[\"val_loss\"], label=\"val_loss\")\n",
    "plt.plot(np.arange(0, N), H.history[\"accuracy\"], label=\"train_acc\")\n",
    "plt.plot(np.arange(0, N), H.history[\"val_accuracy\"], label=\"val_acc\")\n",
    "plt.title(\"Training Loss and Accuracy\")\n",
    "plt.xlabel(\"Epoch #\")\n",
    "plt.ylabel(\"Loss/Accuracy\")\n",
    "plt.legend(loc=\"lower right\")\n",
    "\n"
   ]
  },
  {
   "cell_type": "markdown",
   "metadata": {},
   "source": [
    "### Save model"
   ]
  },
  {
   "cell_type": "code",
   "execution_count": 14,
   "metadata": {
    "execution": {
     "iopub.execute_input": "2020-09-20T18:24:21.208990Z",
     "iopub.status.busy": "2020-09-20T18:24:21.208729Z",
     "iopub.status.idle": "2020-09-20T18:24:42.001678Z",
     "shell.execute_reply": "2020-09-20T18:24:42.000778Z",
     "shell.execute_reply.started": "2020-09-20T18:24:21.208964Z"
    }
   },
   "outputs": [
    {
     "name": "stdout",
     "output_type": "stream",
     "text": [
      "WARNING:tensorflow:From /opt/tljh/user/lib/python3.7/site-packages/tensorflow/python/training/tracking/tracking.py:111: Model.state_updates (from tensorflow.python.keras.engine.training) is deprecated and will be removed in a future version.\n",
      "Instructions for updating:\n",
      "This property should not be used in TensorFlow 2.0, as updates are applied automatically.\n",
      "WARNING:tensorflow:From /opt/tljh/user/lib/python3.7/site-packages/tensorflow/python/training/tracking/tracking.py:111: Layer.updates (from tensorflow.python.keras.engine.base_layer) is deprecated and will be removed in a future version.\n",
      "Instructions for updating:\n",
      "This property should not be used in TensorFlow 2.0, as updates are applied automatically.\n",
      "INFO:tensorflow:Assets written to: face-mask-detector/assets\n"
     ]
    }
   ],
   "source": [
    "model.save('face-mask-detector')"
   ]
  },
  {
   "cell_type": "markdown",
   "metadata": {},
   "source": [
    "### Compile using deepC"
   ]
  },
  {
   "cell_type": "code",
   "execution_count": null,
   "metadata": {},
   "outputs": [],
   "source": [
    "!deepCC face-mask-detector --format=tensorflow"
   ]
  },
  {
   "cell_type": "markdown",
   "metadata": {},
   "source": [
    "# Using Realtime Tracking\n",
    "\n",
    "Click below to see the full video\n",
    "\n",
    "[![Live Face Mask Detection demo](https://user-images.githubusercontent.com/54806252/93716353-edb0c680-fb8c-11ea-9721-ba3f622b1e92.gif)](https://www.youtube.com/watch?v=ws1a8oOh-_Y)\n",
    "\n",
    "\n",
    "### Defining face detection/mask prediction function"
   ]
  },
  {
   "cell_type": "code",
   "execution_count": 10,
   "metadata": {
    "execution": {
     "iopub.execute_input": "2020-09-20T18:14:09.211060Z",
     "iopub.status.busy": "2020-09-20T18:14:09.210844Z",
     "iopub.status.idle": "2020-09-20T18:14:09.221535Z",
     "shell.execute_reply": "2020-09-20T18:14:09.220723Z",
     "shell.execute_reply.started": "2020-09-20T18:14:09.211035Z"
    }
   },
   "outputs": [],
   "source": [
    "def detect_and_predict_mask(frame, faceNet, maskNet):\n",
    "\t# grab the dimensions of the frame and then construct a blob\n",
    "\t# from it\n",
    "\t(h, w) = frame.shape[:2]\n",
    "\tblob = cv2.dnn.blobFromImage(frame, 1.0, (300, 300),\n",
    "\t\t(104.0, 177.0, 123.0))\n",
    "\n",
    "\t# pass the blob through the network and obtain the face detections\n",
    "\tfaceNet.setInput(blob)\n",
    "\tdetections = faceNet.forward()\n",
    "\n",
    "\t# initialize our list of faces, their corresponding locations,\n",
    "\t# and the list of predictions from our face mask network\n",
    "\tfaces = []\n",
    "\tlocs = []\n",
    "\tpreds = []\n",
    "\n",
    "\t# loop over the detections\n",
    "\tfor i in range(0, detections.shape[2]):\n",
    "\t\t# extract the confidence (i.e., probability) associated with\n",
    "\t\t# the detection\n",
    "\t\tconfidence = detections[0, 0, i, 2]\n",
    "\n",
    "\t\t# filter out weak detections by ensuring the confidence is\n",
    "\t\t# greater than the minimum confidence\n",
    "\t\tif confidence > args[\"confidence\"]:\n",
    "\t\t\t# compute the (x, y)-coordinates of the bounding box for\n",
    "\t\t\t# the object\n",
    "\t\t\tbox = detections[0, 0, i, 3:7] * np.array([w, h, w, h])\n",
    "\t\t\t(startX, startY, endX, endY) = box.astype(\"int\")\n",
    "\n",
    "\t\t\t# ensure the bounding boxes fall within the dimensions of\n",
    "\t\t\t# the frame\n",
    "\t\t\t(startX, startY) = (max(0, startX), max(0, startY))\n",
    "\t\t\t(endX, endY) = (min(w - 1, endX), min(h - 1, endY))\n",
    "\n",
    "\t\t\t# extract the face ROI, convert it from BGR to RGB channel\n",
    "\t\t\t# ordering, resize it to 224x224, and preprocess it\n",
    "\t\t\tface = frame[startY:endY, startX:endX]\n",
    "\t\t\tface = cv2.cvtColor(face, cv2.COLOR_BGR2RGB)\n",
    "\t\t\tface = cv2.resize(face, (224, 224))\n",
    "\t\t\tface = img_to_array(face)\n",
    "\t\t\tface = preprocess_input(face)\n",
    "\n",
    "\t\t\t# add the face and bounding boxes to their respective\n",
    "\t\t\t# lists\n",
    "\t\t\tfaces.append(face)\n",
    "\t\t\tlocs.append((startX, startY, endX, endY))\n",
    "\n",
    "\t# only make a predictions if at least one face was detected\n",
    "\tif len(faces) > 0:\n",
    "\t\t# for faster inference we'll make batch predictions on *all*\n",
    "\t\t# faces at the same time rather than one-by-one predictions\n",
    "\t\t# in the above `for` loop\n",
    "\t\tfaces = np.array(faces, dtype=\"float32\")\n",
    "\t\tpreds = maskNet.predict(faces, batch_size=32)\n",
    "\n",
    "\t# return a 2-tuple of the face locations and their corresponding\n",
    "\t# locations\n",
    "\treturn (locs, preds)\n"
   ]
  },
  {
   "cell_type": "markdown",
   "metadata": {},
   "source": [
    "Constructing the argument parser and parsing the arguments"
   ]
  },
  {
   "cell_type": "code",
   "execution_count": 11,
   "metadata": {
    "execution": {
     "iopub.execute_input": "2020-09-20T18:14:09.222798Z",
     "iopub.status.busy": "2020-09-20T18:14:09.222594Z",
     "iopub.status.idle": "2020-09-20T18:14:09.226540Z",
     "shell.execute_reply": "2020-09-20T18:14:09.225868Z",
     "shell.execute_reply.started": "2020-09-20T18:14:09.222773Z"
    }
   },
   "outputs": [],
   "source": [
    "args = {}\n",
    "args[\"face\"] = \"face_detector\"\n",
    "args[\"model\"] = \"mask_detector.model\"\n",
    "args[\"confidence\"] = 0.4"
   ]
  },
  {
   "cell_type": "markdown",
   "metadata": {},
   "source": [
    "Loading the Face Detector Model"
   ]
  },
  {
   "cell_type": "code",
   "execution_count": null,
   "metadata": {},
   "outputs": [],
   "source": [
    "\n",
    "prototxtPath = os.path.sep.join([args[\"face\"], \"deploy.prototxt\"])\n",
    "weightsPath = os.path.sep.join([args[\"face\"],\n",
    "\t\"res10_300x300_ssd_iter_140000.caffemodel\"])\n",
    "faceNet = cv2.dnn.readNet(prototxtPath, weightsPath)\n",
    "\n"
   ]
  },
  {
   "cell_type": "markdown",
   "metadata": {},
   "source": [
    "Loading the saved Facemask Detector Model"
   ]
  },
  {
   "cell_type": "code",
   "execution_count": null,
   "metadata": {
    "execution": {
     "iopub.status.busy": "2020-09-20T18:14:09.515352Z",
     "iopub.status.idle": "2020-09-20T18:14:09.515652Z"
    }
   },
   "outputs": [],
   "source": [
    "# load the face mask detector model from disk\n",
    "\n",
    "maskNet = load_model(args[\"model\"])"
   ]
  },
  {
   "cell_type": "markdown",
   "metadata": {},
   "source": [
    "Initializing the webcam video stream and detecting mask "
   ]
  },
  {
   "cell_type": "code",
   "execution_count": null,
   "metadata": {
    "execution": {
     "iopub.status.busy": "2020-09-20T18:14:09.516915Z",
     "iopub.status.idle": "2020-09-20T18:14:09.517298Z"
    }
   },
   "outputs": [],
   "source": [
    "\n",
    "print(\"Starting video stream\")\n",
    "\n",
    "vs = VideoStream(src=0).start()\n",
    "time.sleep(2.0)\n",
    "\n",
    "# looping over the frames from the video stream\n",
    "while True:\n",
    "\t# grab the frame from the threaded video stream and resize it to have a maximum width of 800 pixels\n",
    "\tframe = vs.read()\n",
    "\tframe = imutils.resize(frame, width=800)\n",
    "\n",
    "\t# detect faces in the frame and determine if they are wearing a face mask or not\n",
    "\t(locs, preds) = detect_and_predict_mask(frame, faceNet, maskNet)\n",
    "\n",
    "\t# loop over the detected face locations and their corresponding locations\n",
    "\tfor (box, pred) in zip(locs, preds):\n",
    "\t\t# unpack the bounding box and predictions\n",
    "\t\t(startX, startY, endX, endY) = box\n",
    "\t\t(mask, withoutMask) = pred\n",
    "\n",
    "\t\t# determine the class label and color we'll use to draw the bounding box and text\n",
    "\t\tlabel = \"Mask\" if mask > withoutMask else \"No Mask\"\n",
    "\t\tcolor = (0, 255, 0) if label == \"Mask\" else (0, 0, 255)\n",
    "\n",
    "\t\t# include the probability in the label\n",
    "\t\tlabel = \"{}: {:.2f}%\".format(label, max(mask, withoutMask) * 100)\n",
    "\n",
    "\t\t# display the label and bounding box rectangle on the output frame\n",
    "\t\tcv2.putText(frame, label, (startX, startY - 10),\n",
    "\t\t\tcv2.FONT_HERSHEY_SIMPLEX, 0.45, color, 2)\n",
    "\t\tcv2.rectangle(frame, (startX, startY), (endX, endY), color, 2)\n",
    "\n",
    "\t# showing the output frame\n",
    "\tcv2.imshow(\"Frame\", frame)\n",
    "\tkey = cv2.waitKey(1) & 0xFF\n",
    "\n",
    "\t# if the `q` key was pressed, break from the loop\n",
    "\tif key == ord(\"q\"):\n",
    "\t\tbreak\n",
    "\n",
    "\n",
    "cv2.destroyAllWindows()\n",
    "vs.stop()\n"
   ]
  }
 ],
 "metadata": {
  "kernelspec": {
   "display_name": "Python 3",
   "language": "python",
   "name": "python3"
  },
  "language_info": {
   "codemirror_mode": {
    "name": "ipython",
    "version": 3
   },
   "file_extension": ".py",
   "mimetype": "text/x-python",
   "name": "python",
   "nbconvert_exporter": "python",
   "pygments_lexer": "ipython3",
   "version": "3.7.3"
  }
 },
 "nbformat": 4,
 "nbformat_minor": 4
}
